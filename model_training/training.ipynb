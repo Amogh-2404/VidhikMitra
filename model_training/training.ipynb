{
 "cells": [
  {
   "cell_type": "markdown",
   "metadata": {},
   "source": [
    "# LLM Fine-Tuning for Indian Legal Assistant\n",
    "This Colab notebook demonstrates how to fine-tune a model on open Indian law data."
   ]
  },
  {
   "cell_type": "code",
   "metadata": {},
   "source": [
    "!pip install transformers datasets"
   ]
  },
  {
   "cell_type": "code",
   "metadata": {},
   "source": [
    "from datasets import load_dataset\n",
    "from transformers import AutoModelForCausalLM, AutoTokenizer, TrainingArguments, Trainer"
   ]
  },
  {
   "cell_type": "code",
   "metadata": {},
   "source": [
    "dataset = load_dataset('json', data_files='Indian_Law.jsonl')\n",
    "model_name = 'mistralai/Mistral-7B-v0.1'\n",
    "tokenizer = AutoTokenizer.from_pretrained(model_name)\n",
    "model = AutoModelForCausalLM.from_pretrained(model_name)"
   ]
  },
  {
   "cell_type": "code",
   "metadata": {},
   "source": [
    "args = TrainingArguments(\n",
    "    output_dir='model',\n",
    "    per_device_train_batch_size=1,\n",
    "    num_train_epochs=1\n",
    ")\n",
    "trainer = Trainer(model=model, args=args, train_dataset=dataset['train'])\n",
    "trainer.train()\n",
    "model.save_pretrained('model')\n",
    "tokenizer.save_pretrained('model')"
   ]
  }
 ],
 "metadata": {
  "kernelspec": {
   "display_name": "Python 3",
   "language": "python",
   "name": "python3"
  },
  "language_info": {
   "name": "python",
   "version": "3.x"
  }
 },
 "nbformat": 4,
 "nbformat_minor": 5
}
